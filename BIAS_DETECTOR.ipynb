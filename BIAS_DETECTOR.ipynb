{
  "nbformat": 4,
  "nbformat_minor": 0,
  "metadata": {
    "colab": {
      "provenance": [],
      "authorship_tag": "ABX9TyML1v0Trv7EbqBt39Ho4c1c",
      "include_colab_link": true
    },
    "kernelspec": {
      "name": "python3",
      "display_name": "Python 3"
    },
    "language_info": {
      "name": "python"
    }
  },
  "cells": [
    {
      "cell_type": "markdown",
      "metadata": {
        "id": "view-in-github",
        "colab_type": "text"
      },
      "source": [
        "<a href=\"https://colab.research.google.com/github/gurkaur2103/Resume-Bias-Generator/blob/main/BIAS_DETECTOR.ipynb\" target=\"_parent\"><img src=\"https://colab.research.google.com/assets/colab-badge.svg\" alt=\"Open In Colab\"/></a>"
      ]
    },
    {
      "cell_type": "markdown",
      "source": [
        "# WELCOME TO THIS COLLAB NOTEBOOK\n",
        "# RESUME BIAS DETECTOR"
      ],
      "metadata": {
        "id": "kQX226BaLmK1"
      }
    },
    {
      "cell_type": "markdown",
      "source": [
        "Install Streamlit\n"
      ],
      "metadata": {
        "id": "rHWsrrXuJMlC"
      }
    },
    {
      "cell_type": "code",
      "execution_count": null,
      "metadata": {
        "id": "wcy6h_fOI_gr",
        "colab": {
          "base_uri": "https://localhost:8080/"
        },
        "outputId": "8376f707-304e-45e1-cb68-75ee2dba974f"
      },
      "outputs": [
        {
          "output_type": "stream",
          "name": "stdout",
          "text": [
            "Requirement already satisfied: streamlit in /usr/local/lib/python3.11/dist-packages (1.42.0)\n",
            "Requirement already satisfied: watchdog in /usr/local/lib/python3.11/dist-packages (6.0.0)\n",
            "Requirement already satisfied: altair<6,>=4.0 in /usr/local/lib/python3.11/dist-packages (from streamlit) (5.5.0)\n",
            "Requirement already satisfied: blinker<2,>=1.0.0 in /usr/local/lib/python3.11/dist-packages (from streamlit) (1.9.0)\n",
            "Requirement already satisfied: cachetools<6,>=4.0 in /usr/local/lib/python3.11/dist-packages (from streamlit) (5.5.1)\n",
            "Requirement already satisfied: click<9,>=7.0 in /usr/local/lib/python3.11/dist-packages (from streamlit) (8.1.8)\n",
            "Requirement already satisfied: numpy<3,>=1.23 in /usr/local/lib/python3.11/dist-packages (from streamlit) (1.26.4)\n",
            "Requirement already satisfied: packaging<25,>=20 in /usr/local/lib/python3.11/dist-packages (from streamlit) (24.2)\n",
            "Requirement already satisfied: pandas<3,>=1.4.0 in /usr/local/lib/python3.11/dist-packages (from streamlit) (2.2.2)\n",
            "Requirement already satisfied: pillow<12,>=7.1.0 in /usr/local/lib/python3.11/dist-packages (from streamlit) (11.1.0)\n",
            "Requirement already satisfied: protobuf<6,>=3.20 in /usr/local/lib/python3.11/dist-packages (from streamlit) (4.25.6)\n",
            "Requirement already satisfied: pyarrow>=7.0 in /usr/local/lib/python3.11/dist-packages (from streamlit) (17.0.0)\n",
            "Requirement already satisfied: requests<3,>=2.27 in /usr/local/lib/python3.11/dist-packages (from streamlit) (2.32.3)\n",
            "Requirement already satisfied: rich<14,>=10.14.0 in /usr/local/lib/python3.11/dist-packages (from streamlit) (13.9.4)\n",
            "Requirement already satisfied: tenacity<10,>=8.1.0 in /usr/local/lib/python3.11/dist-packages (from streamlit) (9.0.0)\n",
            "Requirement already satisfied: toml<2,>=0.10.1 in /usr/local/lib/python3.11/dist-packages (from streamlit) (0.10.2)\n",
            "Requirement already satisfied: typing-extensions<5,>=4.4.0 in /usr/local/lib/python3.11/dist-packages (from streamlit) (4.12.2)\n",
            "Requirement already satisfied: gitpython!=3.1.19,<4,>=3.0.7 in /usr/local/lib/python3.11/dist-packages (from streamlit) (3.1.44)\n",
            "Requirement already satisfied: pydeck<1,>=0.8.0b4 in /usr/local/lib/python3.11/dist-packages (from streamlit) (0.9.1)\n",
            "Requirement already satisfied: tornado<7,>=6.0.3 in /usr/local/lib/python3.11/dist-packages (from streamlit) (6.4.2)\n",
            "Requirement already satisfied: jinja2 in /usr/local/lib/python3.11/dist-packages (from altair<6,>=4.0->streamlit) (3.1.5)\n",
            "Requirement already satisfied: jsonschema>=3.0 in /usr/local/lib/python3.11/dist-packages (from altair<6,>=4.0->streamlit) (4.23.0)\n",
            "Requirement already satisfied: narwhals>=1.14.2 in /usr/local/lib/python3.11/dist-packages (from altair<6,>=4.0->streamlit) (1.26.0)\n",
            "Requirement already satisfied: gitdb<5,>=4.0.1 in /usr/local/lib/python3.11/dist-packages (from gitpython!=3.1.19,<4,>=3.0.7->streamlit) (4.0.12)\n",
            "Requirement already satisfied: python-dateutil>=2.8.2 in /usr/local/lib/python3.11/dist-packages (from pandas<3,>=1.4.0->streamlit) (2.8.2)\n",
            "Requirement already satisfied: pytz>=2020.1 in /usr/local/lib/python3.11/dist-packages (from pandas<3,>=1.4.0->streamlit) (2025.1)\n",
            "Requirement already satisfied: tzdata>=2022.7 in /usr/local/lib/python3.11/dist-packages (from pandas<3,>=1.4.0->streamlit) (2025.1)\n",
            "Requirement already satisfied: charset-normalizer<4,>=2 in /usr/local/lib/python3.11/dist-packages (from requests<3,>=2.27->streamlit) (3.4.1)\n",
            "Requirement already satisfied: idna<4,>=2.5 in /usr/local/lib/python3.11/dist-packages (from requests<3,>=2.27->streamlit) (3.10)\n",
            "Requirement already satisfied: urllib3<3,>=1.21.1 in /usr/local/lib/python3.11/dist-packages (from requests<3,>=2.27->streamlit) (2.3.0)\n",
            "Requirement already satisfied: certifi>=2017.4.17 in /usr/local/lib/python3.11/dist-packages (from requests<3,>=2.27->streamlit) (2025.1.31)\n",
            "Requirement already satisfied: markdown-it-py>=2.2.0 in /usr/local/lib/python3.11/dist-packages (from rich<14,>=10.14.0->streamlit) (3.0.0)\n",
            "Requirement already satisfied: pygments<3.0.0,>=2.13.0 in /usr/local/lib/python3.11/dist-packages (from rich<14,>=10.14.0->streamlit) (2.18.0)\n",
            "Requirement already satisfied: smmap<6,>=3.0.1 in /usr/local/lib/python3.11/dist-packages (from gitdb<5,>=4.0.1->gitpython!=3.1.19,<4,>=3.0.7->streamlit) (5.0.2)\n",
            "Requirement already satisfied: MarkupSafe>=2.0 in /usr/local/lib/python3.11/dist-packages (from jinja2->altair<6,>=4.0->streamlit) (3.0.2)\n",
            "Requirement already satisfied: attrs>=22.2.0 in /usr/local/lib/python3.11/dist-packages (from jsonschema>=3.0->altair<6,>=4.0->streamlit) (25.1.0)\n",
            "Requirement already satisfied: jsonschema-specifications>=2023.03.6 in /usr/local/lib/python3.11/dist-packages (from jsonschema>=3.0->altair<6,>=4.0->streamlit) (2024.10.1)\n",
            "Requirement already satisfied: referencing>=0.28.4 in /usr/local/lib/python3.11/dist-packages (from jsonschema>=3.0->altair<6,>=4.0->streamlit) (0.36.2)\n",
            "Requirement already satisfied: rpds-py>=0.7.1 in /usr/local/lib/python3.11/dist-packages (from jsonschema>=3.0->altair<6,>=4.0->streamlit) (0.22.3)\n",
            "Requirement already satisfied: mdurl~=0.1 in /usr/local/lib/python3.11/dist-packages (from markdown-it-py>=2.2.0->rich<14,>=10.14.0->streamlit) (0.1.2)\n",
            "Requirement already satisfied: six>=1.5 in /usr/local/lib/python3.11/dist-packages (from python-dateutil>=2.8.2->pandas<3,>=1.4.0->streamlit) (1.17.0)\n",
            "34.141.207.86\n",
            "Requirement already satisfied: streamlit in /usr/local/lib/python3.11/dist-packages (1.42.0)\n",
            "Requirement already satisfied: watchdog in /usr/local/lib/python3.11/dist-packages (6.0.0)\n",
            "Requirement already satisfied: altair<6,>=4.0 in /usr/local/lib/python3.11/dist-packages (from streamlit) (5.5.0)\n",
            "Requirement already satisfied: blinker<2,>=1.0.0 in /usr/local/lib/python3.11/dist-packages (from streamlit) (1.9.0)\n",
            "Requirement already satisfied: cachetools<6,>=4.0 in /usr/local/lib/python3.11/dist-packages (from streamlit) (5.5.1)\n",
            "Requirement already satisfied: click<9,>=7.0 in /usr/local/lib/python3.11/dist-packages (from streamlit) (8.1.8)\n",
            "Requirement already satisfied: numpy<3,>=1.23 in /usr/local/lib/python3.11/dist-packages (from streamlit) (1.26.4)\n",
            "Requirement already satisfied: packaging<25,>=20 in /usr/local/lib/python3.11/dist-packages (from streamlit) (24.2)\n",
            "Requirement already satisfied: pandas<3,>=1.4.0 in /usr/local/lib/python3.11/dist-packages (from streamlit) (2.2.2)\n",
            "Requirement already satisfied: pillow<12,>=7.1.0 in /usr/local/lib/python3.11/dist-packages (from streamlit) (11.1.0)\n",
            "Requirement already satisfied: protobuf<6,>=3.20 in /usr/local/lib/python3.11/dist-packages (from streamlit) (4.25.6)\n",
            "Requirement already satisfied: pyarrow>=7.0 in /usr/local/lib/python3.11/dist-packages (from streamlit) (17.0.0)\n",
            "Requirement already satisfied: requests<3,>=2.27 in /usr/local/lib/python3.11/dist-packages (from streamlit) (2.32.3)\n",
            "Requirement already satisfied: rich<14,>=10.14.0 in /usr/local/lib/python3.11/dist-packages (from streamlit) (13.9.4)\n",
            "Requirement already satisfied: tenacity<10,>=8.1.0 in /usr/local/lib/python3.11/dist-packages (from streamlit) (9.0.0)\n",
            "Requirement already satisfied: toml<2,>=0.10.1 in /usr/local/lib/python3.11/dist-packages (from streamlit) (0.10.2)\n",
            "Requirement already satisfied: typing-extensions<5,>=4.4.0 in /usr/local/lib/python3.11/dist-packages (from streamlit) (4.12.2)\n",
            "Requirement already satisfied: gitpython!=3.1.19,<4,>=3.0.7 in /usr/local/lib/python3.11/dist-packages (from streamlit) (3.1.44)\n",
            "Requirement already satisfied: pydeck<1,>=0.8.0b4 in /usr/local/lib/python3.11/dist-packages (from streamlit) (0.9.1)\n",
            "Requirement already satisfied: tornado<7,>=6.0.3 in /usr/local/lib/python3.11/dist-packages (from streamlit) (6.4.2)\n",
            "Requirement already satisfied: jinja2 in /usr/local/lib/python3.11/dist-packages (from altair<6,>=4.0->streamlit) (3.1.5)\n",
            "Requirement already satisfied: jsonschema>=3.0 in /usr/local/lib/python3.11/dist-packages (from altair<6,>=4.0->streamlit) (4.23.0)\n",
            "Requirement already satisfied: narwhals>=1.14.2 in /usr/local/lib/python3.11/dist-packages (from altair<6,>=4.0->streamlit) (1.26.0)\n",
            "Requirement already satisfied: gitdb<5,>=4.0.1 in /usr/local/lib/python3.11/dist-packages (from gitpython!=3.1.19,<4,>=3.0.7->streamlit) (4.0.12)\n",
            "Requirement already satisfied: python-dateutil>=2.8.2 in /usr/local/lib/python3.11/dist-packages (from pandas<3,>=1.4.0->streamlit) (2.8.2)\n",
            "Requirement already satisfied: pytz>=2020.1 in /usr/local/lib/python3.11/dist-packages (from pandas<3,>=1.4.0->streamlit) (2025.1)\n",
            "Requirement already satisfied: tzdata>=2022.7 in /usr/local/lib/python3.11/dist-packages (from pandas<3,>=1.4.0->streamlit) (2025.1)\n",
            "Requirement already satisfied: charset-normalizer<4,>=2 in /usr/local/lib/python3.11/dist-packages (from requests<3,>=2.27->streamlit) (3.4.1)\n",
            "Requirement already satisfied: idna<4,>=2.5 in /usr/local/lib/python3.11/dist-packages (from requests<3,>=2.27->streamlit) (3.10)\n",
            "Requirement already satisfied: urllib3<3,>=1.21.1 in /usr/local/lib/python3.11/dist-packages (from requests<3,>=2.27->streamlit) (2.3.0)\n",
            "Requirement already satisfied: certifi>=2017.4.17 in /usr/local/lib/python3.11/dist-packages (from requests<3,>=2.27->streamlit) (2025.1.31)\n",
            "Requirement already satisfied: markdown-it-py>=2.2.0 in /usr/local/lib/python3.11/dist-packages (from rich<14,>=10.14.0->streamlit) (3.0.0)\n",
            "Requirement already satisfied: pygments<3.0.0,>=2.13.0 in /usr/local/lib/python3.11/dist-packages (from rich<14,>=10.14.0->streamlit) (2.18.0)\n",
            "Requirement already satisfied: smmap<6,>=3.0.1 in /usr/local/lib/python3.11/dist-packages (from gitdb<5,>=4.0.1->gitpython!=3.1.19,<4,>=3.0.7->streamlit) (5.0.2)\n",
            "Requirement already satisfied: MarkupSafe>=2.0 in /usr/local/lib/python3.11/dist-packages (from jinja2->altair<6,>=4.0->streamlit) (3.0.2)\n",
            "Requirement already satisfied: attrs>=22.2.0 in /usr/local/lib/python3.11/dist-packages (from jsonschema>=3.0->altair<6,>=4.0->streamlit) (25.1.0)\n",
            "Requirement already satisfied: jsonschema-specifications>=2023.03.6 in /usr/local/lib/python3.11/dist-packages (from jsonschema>=3.0->altair<6,>=4.0->streamlit) (2024.10.1)\n",
            "Requirement already satisfied: referencing>=0.28.4 in /usr/local/lib/python3.11/dist-packages (from jsonschema>=3.0->altair<6,>=4.0->streamlit) (0.36.2)\n",
            "Requirement already satisfied: rpds-py>=0.7.1 in /usr/local/lib/python3.11/dist-packages (from jsonschema>=3.0->altair<6,>=4.0->streamlit) (0.22.3)\n",
            "Requirement already satisfied: mdurl~=0.1 in /usr/local/lib/python3.11/dist-packages (from markdown-it-py>=2.2.0->rich<14,>=10.14.0->streamlit) (0.1.2)\n",
            "Requirement already satisfied: six>=1.5 in /usr/local/lib/python3.11/dist-packages (from python-dateutil>=2.8.2->pandas<3,>=1.4.0->streamlit) (1.17.0)\n",
            "34.141.207.86\n"
          ]
        }
      ],
      "source": [
        "!pip install streamlit -q\n",
        "!pip install --upgrade streamlit watchdog\n",
        "\n",
        "!wget -q -O - ipv4.icanhazip.com"
      ]
    },
    {
      "cell_type": "code",
      "source": [
        "! streamlit run Bias_Detector.py & npx localtunnel --port 8501"
      ],
      "metadata": {
        "colab": {
          "base_uri": "https://localhost:8080/"
        },
        "id": "RBZAME2wMkw1",
        "outputId": "692af115-d0e8-470d-f611-64db6f89d1df"
      },
      "execution_count": null,
      "outputs": [
        {
          "metadata": {
            "tags": null
          },
          "name": "stdout",
          "output_type": "stream",
          "text": [
            "\n",
            "Collecting usage statistics. To deactivate, set browser.gatherUsageStats to false.\n",
            "\u001b[0m\n",
            "\u001b[1G\u001b[0K⠙\u001b[1G\u001b[0K⠹\u001b[1G\u001b[0K⠸\u001b[0m\n",
            "\u001b[34m\u001b[1m  You can now view your Streamlit app in your browser.\u001b[0m\n",
            "\u001b[0m\n",
            "\u001b[34m  Local URL: \u001b[0m\u001b[1mhttp://localhost:8501\u001b[0m\n",
            "\u001b[34m  Network URL: \u001b[0m\u001b[1mhttp://172.28.0.12:8501\u001b[0m\n",
            "\u001b[34m  External URL: \u001b[0m\u001b[1mhttp://34.141.207.86:8501\u001b[0m\n",
            "\u001b[0m\n",
            "\u001b[1G\u001b[0K⠼\u001b[1G\u001b[0K⠴\u001b[1G\u001b[0Kyour url is: https://nine-bees-lay.loca.lt\n",
            "2025-02-17 14:54:55.931 Uncaught exception GET /_stcore/stream (127.0.0.1)\n",
            "HTTPServerRequest(protocol='http', host='nine-bees-lay.loca.lt', method='GET', uri='/_stcore/stream', version='HTTP/1.1', remote_ip='127.0.0.1')\n",
            "Traceback (most recent call last):\n",
            "  File \"/usr/local/lib/python3.11/dist-packages/tornado/websocket.py\", line 938, in _accept_connection\n",
            "    open_result = handler.open(*handler.open_args, **handler.open_kwargs)\n",
            "                  ^^^^^^^^^^^^^^^^^^^^^^^^^^^^^^^^^^^^^^^^^^^^^^^^^^^^^^^\n",
            "  File \"/usr/local/lib/python3.11/dist-packages/streamlit/web/server/browser_websocket_handler.py\", line 176, in open\n",
            "    self._session_id = self._runtime.connect_session(\n",
            "                       ^^^^^^^^^^^^^^^^^^^^^^^^^^^^^^\n",
            "  File \"/usr/local/lib/python3.11/dist-packages/streamlit/runtime/runtime.py\", line 397, in connect_session\n",
            "    session_id = self._session_mgr.connect_session(\n",
            "                 ^^^^^^^^^^^^^^^^^^^^^^^^^^^^^^^^^^\n",
            "  File \"/usr/local/lib/python3.11/dist-packages/streamlit/runtime/websocket_session_manager.py\", line 99, in connect_session\n",
            "    session = AppSession(\n",
            "              ^^^^^^^^^^^\n",
            "  File \"/usr/local/lib/python3.11/dist-packages/streamlit/runtime/app_session.py\", line 133, in __init__\n",
            "    self._pages_manager = PagesManager(\n",
            "                          ^^^^^^^^^^^^^\n",
            "  File \"/usr/local/lib/python3.11/dist-packages/streamlit/runtime/pages_manager.py\", line 235, in __init__\n",
            "    self.pages_strategy = PagesManager.DefaultStrategy(self, **kwargs)\n",
            "                          ^^^^^^^^^^^^^^^^^^^^^^^^^^^^^^^^^^^^^^^^^^^^\n",
            "  File \"/usr/local/lib/python3.11/dist-packages/streamlit/runtime/pages_manager.py\", line 73, in __init__\n",
            "    PagesStrategyV1.watch_pages_dir(pages_manager)\n",
            "  File \"/usr/local/lib/python3.11/dist-packages/streamlit/runtime/pages_manager.py\", line 61, in watch_pages_dir\n",
            "    watch_dir(\n",
            "  File \"/usr/local/lib/python3.11/dist-packages/streamlit/watcher/path_watcher.py\", line 155, in watch_dir\n",
            "    return _watch_path(\n",
            "           ^^^^^^^^^^^^\n",
            "  File \"/usr/local/lib/python3.11/dist-packages/streamlit/watcher/path_watcher.py\", line 126, in _watch_path\n",
            "    watcher_class(\n",
            "  File \"/usr/local/lib/python3.11/dist-packages/streamlit/watcher/event_based_path_watcher.py\", line 107, in __init__\n",
            "    path_watcher.watch_path(\n",
            "  File \"/usr/local/lib/python3.11/dist-packages/streamlit/watcher/event_based_path_watcher.py\", line 185, in watch_path\n",
            "    folder_handler.watch = self._observer.schedule(\n",
            "                           ^^^^^^^^^^^^^^^^^^^^^^^^\n",
            "  File \"/usr/local/lib/python3.11/dist-packages/watchdog/observers/api.py\", line 312, in schedule\n",
            "    emitter.start()\n",
            "  File \"/usr/local/lib/python3.11/dist-packages/watchdog/utils/__init__.py\", line 75, in start\n",
            "    self.on_thread_start()\n",
            "  File \"/usr/local/lib/python3.11/dist-packages/watchdog/observers/inotify.py\", line 119, in on_thread_start\n",
            "    self._inotify = InotifyBuffer(path, recursive=self.watch.is_recursive, event_mask=event_mask)\n",
            "                    ^^^^^^^^^^^^^^^^^^^^^^^^^^^^^^^^^^^^^^^^^^^^^^^^^^^^^^^^^^^^^^^^^^^^^^^^^^^^^\n",
            "  File \"/usr/local/lib/python3.11/dist-packages/watchdog/observers/inotify_buffer.py\", line 30, in __init__\n",
            "    self._inotify = Inotify(path, recursive=recursive, event_mask=event_mask)\n",
            "                    ^^^^^^^^^^^^^^^^^^^^^^^^^^^^^^^^^^^^^^^^^^^^^^^^^^^^^^^^^\n",
            "  File \"/usr/local/lib/python3.11/dist-packages/watchdog/observers/inotify_c.py\", line 185, in __init__\n",
            "    self._add_dir_watch(path, event_mask, recursive=recursive)\n",
            "  File \"/usr/local/lib/python3.11/dist-packages/watchdog/observers/inotify_c.py\", line 411, in _add_dir_watch\n",
            "    self._add_watch(full_path, mask)\n",
            "  File \"/usr/local/lib/python3.11/dist-packages/watchdog/observers/inotify_c.py\", line 424, in _add_watch\n",
            "    Inotify._raise_error()\n",
            "  File \"/usr/local/lib/python3.11/dist-packages/watchdog/observers/inotify_c.py\", line 441, in _raise_error\n",
            "    raise OSError(err, os.strerror(err))\n",
            "FileNotFoundError: [Errno 2] No such file or directory\n",
            "Exception ignored in: <function AppSession.__del__ at 0x7cac38440b80>\n",
            "Traceback (most recent call last):\n",
            "  File \"/usr/local/lib/python3.11/dist-packages/streamlit/runtime/app_session.py\", line 174, in __del__\n",
            "    self.shutdown()\n",
            "  File \"/usr/local/lib/python3.11/dist-packages/streamlit/runtime/app_session.py\", line 240, in shutdown\n",
            "    if self._state != AppSessionState.SHUTDOWN_REQUESTED:\n",
            "       ^^^^^^^^^^^\n",
            "AttributeError: 'AppSession' object has no attribute '_state'\n"
          ]
        }
      ]
    },
    {
      "cell_type": "markdown",
      "source": [
        "Installing the Necessary Dependencies"
      ],
      "metadata": {
        "id": "K-fnjqnCJZpE"
      }
    },
    {
      "cell_type": "code",
      "source": [
        "from google.colab import drive\n",
        "drive.mount('/content/drive')"
      ],
      "metadata": {
        "colab": {
          "base_uri": "https://localhost:8080/"
        },
        "id": "MePKRl3QMrYh",
        "outputId": "abf7ea0c-d744-4683-b61e-8f188ad6416c"
      },
      "execution_count": null,
      "outputs": [
        {
          "output_type": "stream",
          "name": "stdout",
          "text": [
            "Mounted at /content/drive\n"
          ]
        }
      ]
    },
    {
      "cell_type": "code",
      "source": [
        "import pandas as pd\n",
        "import numpy as np\n",
        "import matplotlib.pyplot as plt\n",
        "import seaborn as sns\n",
        "import streamlit as st\n",
        "import base64"
      ],
      "metadata": {
        "id": "aYsf_vw4JKCs"
      },
      "execution_count": null,
      "outputs": []
    },
    {
      "cell_type": "markdown",
      "source": [
        "Setting up the Streamlit App"
      ],
      "metadata": {
        "id": "O4arj_xKJgWf"
      }
    },
    {
      "cell_type": "code",
      "source": [
        "st.set_page_config(page_title=\"Hiring Bias Analysis\", layout=\"wide\")\n",
        "\n",
        "st.title(\"Automated Hiring Bias Analysis Tool\")"
      ],
      "metadata": {
        "colab": {
          "base_uri": "https://localhost:8080/"
        },
        "id": "Q5OeYsirJonr",
        "outputId": "5bca1e05-6674-41b0-85a3-e95874ea9b76"
      },
      "execution_count": null,
      "outputs": [
        {
          "output_type": "stream",
          "name": "stderr",
          "text": [
            "2025-02-17 13:43:54.747 WARNING streamlit.runtime.scriptrunner_utils.script_run_context: Thread 'MainThread': missing ScriptRunContext! This warning can be ignored when running in bare mode.\n",
            "2025-02-17 13:43:54.749 WARNING streamlit.runtime.scriptrunner_utils.script_run_context: Thread 'MainThread': missing ScriptRunContext! This warning can be ignored when running in bare mode.\n",
            "2025-02-17 13:43:54.929 \n",
            "  \u001b[33m\u001b[1mWarning:\u001b[0m to view this Streamlit app on a browser, run it with the following\n",
            "  command:\n",
            "\n",
            "    streamlit run /usr/local/lib/python3.11/dist-packages/colab_kernel_launcher.py [ARGUMENTS]\n",
            "2025-02-17 13:43:54.931 Thread 'MainThread': missing ScriptRunContext! This warning can be ignored when running in bare mode.\n"
          ]
        },
        {
          "output_type": "execute_result",
          "data": {
            "text/plain": [
              "DeltaGenerator()"
            ]
          },
          "metadata": {},
          "execution_count": 3
        }
      ]
    },
    {
      "cell_type": "markdown",
      "source": [
        "Function to Generate NLP Explaination"
      ],
      "metadata": {
        "id": "8OCMH3FEJ1HD"
      }
    },
    {
      "cell_type": "code",
      "source": [
        "def generate_nlp_explanation(gender_selection_rates, race_selection_rates, job_factors_gender, job_factors_race, di_gender, di_race):\n",
        "    explanation = \"\\nAutomated Hiring Bias Report\\n\"\n",
        "    explanation += \"---------------------------------------------------\\n\"\n",
        "\n",
        "    explanation += \"\\nGender Bias Analysis:\\n\"\n",
        "    explanation += f\"- Women receive callbacks at {gender_selection_rates.get('female', 0) * 100:.2f}%, while men receive {gender_selection_rates.get('male', 0) * 100:.2f}%.\\n\"\n",
        "    if di_gender < 0.8:\n",
        "        explanation += \"There is a significant gender bias in hiring. Women are less likely to be selected despite similar qualifications.\\n\"\n",
        "    else:\n",
        "        explanation += \"No significant gender bias detected. The hiring process appears fair in terms of gender selection.\\n\"\n",
        "\n",
        "    explanation += \"\\nRace Bias Analysis:\\n\"\n",
        "    explanation += f\"- White candidates receive callbacks at {race_selection_rates.get('white', 0) * 100:.2f}%, while Black candidates receive {race_selection_rates.get('black', 0) * 100:.2f}%.\\n\"\n",
        "    if di_race < 0.8:\n",
        "        explanation += \"Racial bias is present in hiring. Black candidates are receiving significantly fewer callbacks compared to White candidates.\\n\"\n",
        "    else:\n",
        "        explanation += \"No strong racial bias detected in hiring decisions.\\n\"\n",
        "\n",
        "    explanation += \"\\nImpact of Job Qualifications on Hiring\\n\"\n",
        "\n",
        "    for factor in job_factors_gender.columns:\n",
        "        female_avg = job_factors_gender.loc['female', factor] if 'female' in job_factors_gender.index else 0\n",
        "        male_avg = job_factors_gender.loc['male', factor] if 'male' in job_factors_gender.index else 0\n",
        "        difference = female_avg - male_avg\n",
        "        percentage_diff = (difference / max(male_avg, 0.001)) * 100\n",
        "\n",
        "        if abs(percentage_diff) > 10:\n",
        "            if difference > 0:\n",
        "                explanation += f\"- {factor.replace('_', ' ').title()}: Women score {percentage_diff:.1f}% higher than men.\\n\"\n",
        "            else:\n",
        "                explanation += f\"- {factor.replace('_', ' ').title()}: Men score {abs(percentage_diff):.1f}% higher than women.\\n\"\n",
        "\n",
        "    for factor in job_factors_race.columns:\n",
        "        black_avg = job_factors_race.loc['black', factor] if 'black' in job_factors_race.index else 0\n",
        "        white_avg = job_factors_race.loc['white', factor] if 'white' in job_factors_race.index else 0\n",
        "        difference = black_avg - white_avg\n",
        "        percentage_diff = (difference / max(white_avg, 0.001)) * 100\n",
        "\n",
        "        if abs(percentage_diff) > 10:\n",
        "            if difference > 0:\n",
        "                explanation += f\"- {factor.replace('_', ' ').title()}: Black candidates score {percentage_diff:.1f}% higher than White candidates.\\n\"\n",
        "            else:\n",
        "                explanation += f\"- {factor.replace('_', ' ').title()}: White candidates score {abs(percentage_diff):.1f}% higher than Black candidates.\\n\"\n",
        "\n",
        "    explanation += \"\\nFinal Verdict:\\n\"\n",
        "    if di_gender < 0.8 or di_race < 0.8:\n",
        "        explanation += \"The hiring process appears biased. Certain groups are facing disadvantages despite their qualifications. Consider reviewing selection criteria to ensure fairness.\\n\"\n",
        "    else:\n",
        "        explanation += \"No major bias detected. The hiring process appears fair.\\n\"\n",
        "\n",
        "    return explanation\n"
      ],
      "metadata": {
        "id": "AQDm7aQgJs0i"
      },
      "execution_count": null,
      "outputs": []
    },
    {
      "cell_type": "markdown",
      "source": [
        "Function to Detect Bias"
      ],
      "metadata": {
        "id": "glW0j8wzJ7h_"
      }
    },
    {
      "cell_type": "code",
      "source": [
        "def detect_bias(df):\n",
        "    df['received_callback'] = df['received_callback'].astype(int)\n",
        "\n",
        "    df['gender'] = df['gender'].str.lower().str.strip().replace({'m': 'male', 'f': 'female'})\n",
        "    df = df[df['gender'].isin(['male', 'female'])]\n",
        "\n",
        "    resume_mapping = {'low': 0, 'medium': 1, 'high': 2}\n",
        "    df['resume_quality'] = df['resume_quality'].str.lower().str.strip().map(resume_mapping).fillna(1)\n",
        "\n",
        "    job_factors = ['job_req_education', 'job_req_min_experience', 'job_req_computer',\n",
        "                   'college_degree', 'years_experience', 'computer_skills', 'resume_quality']\n",
        "    df[job_factors] = df[job_factors].apply(pd.to_numeric, errors='coerce').fillna(0)\n",
        "\n",
        "    gender_selection_rates = df.groupby('gender')['received_callback'].mean()\n",
        "    race_selection_rates = df.groupby('race')['received_callback'].mean()\n",
        "\n",
        "    job_factors_gender = df[df['received_callback'] == 1].groupby('gender')[job_factors].mean()\n",
        "    job_factors_race = df[df['received_callback'] == 1].groupby('race')[job_factors].mean()\n",
        "\n",
        "    di_gender = np.nan if gender_selection_rates.empty else gender_selection_rates.min() / gender_selection_rates.max()\n",
        "    di_race = np.nan if race_selection_rates.empty else race_selection_rates.min() / race_selection_rates.max()\n",
        "\n",
        "    explanation = generate_nlp_explanation(gender_selection_rates, race_selection_rates, job_factors_gender, job_factors_race, di_gender, di_race)\n",
        "\n",
        "    return explanation"
      ],
      "metadata": {
        "id": "20aqG4m_J-XW"
      },
      "execution_count": null,
      "outputs": []
    },
    {
      "cell_type": "markdown",
      "source": [
        "Function to Download the Bias Report"
      ],
      "metadata": {
        "id": "L2W_UV3oVY-h"
      }
    },
    {
      "cell_type": "code",
      "source": [
        "def download_report(report_text, filename=\"bias_report.txt\"):\n",
        "  \"\"\"Generates a link allowing the data in a given panda dataframe to be downloaded\n",
        "  in:  dataframe\n",
        "  out: href string\n",
        "  \"\"\"\n",
        "  b64 = base64.b64encode(report_text.encode()).decode()  # some strings <-> bytes conversions necessary here\n",
        "  href = f'<a href=\"data:file/txt;base64,{b64}\" download=\"{filename}\">Download Report</a>'\n",
        "  return href"
      ],
      "metadata": {
        "id": "lI8svAhMVdYD"
      },
      "execution_count": null,
      "outputs": []
    },
    {
      "cell_type": "markdown",
      "source": [
        "Function to Plot Visualizations"
      ],
      "metadata": {
        "id": "e_9JGT85KHdn"
      }
    },
    {
      "cell_type": "code",
      "source": [
        "def plot_visuals(df):\n",
        "    st.subheader(\"Visualizations\")\n",
        "\n",
        "    # Gender vs Callback Rate\n",
        "    st.write(\"### Selection Rate by Gender\")\n",
        "    fig, ax = plt.subplots()\n",
        "    sns.barplot(x=df['gender'], y=df['received_callback'], errorbar=None, ax=ax)\n",
        "    ax.set_ylabel('Callback Rate')\n",
        "    ax.set_xlabel('Gender')\n",
        "    st.pyplot(fig)\n",
        "\n",
        "    # Race vs Callback Rate\n",
        "    st.write(\"### Selection Rate by Race\")\n",
        "    fig, ax = plt.subplots()\n",
        "    sns.barplot(x=df['race'], y=df['received_callback'], errorbar=None, ax=ax)\n",
        "    ax.set_ylabel('Callback Rate')\n",
        "    ax.set_xlabel('Race')\n",
        "    st.pyplot(fig)\n",
        "\n",
        "    # Correlation Heatmap\n",
        "    st.write(\"### Feature Correlation with Callback Rate\")\n",
        "    fig, ax = plt.subplots(figsize=(10, 6))\n",
        "    correlation = df.corr()\n",
        "    sns.heatmap(correlation, annot=True, cmap='coolwarm', fmt=\".2f\", linewidths=0.5, ax=ax)\n",
        "    st.pyplot(fig)"
      ],
      "metadata": {
        "id": "fizTvXxZKSi-"
      },
      "execution_count": null,
      "outputs": []
    },
    {
      "cell_type": "markdown",
      "source": [
        "Main(Driver) Function for the Streamlit app"
      ],
      "metadata": {
        "id": "v2TWP8JTKUtf"
      }
    },
    {
      "cell_type": "code",
      "source": [
        "def main():\n",
        "    st.sidebar.header(\"Upload or Enter Data\")\n",
        "    upload_option = st.sidebar.radio(\"Choose an option:\", (\"Upload CSV\", \"Enter Data Manually\"))\n",
        "\n",
        "    if upload_option == \"Upload CSV\":\n",
        "        uploaded_file = st.sidebar.file_uploader(\"Upload your CSV file\", type=[\"csv\"])\n",
        "        if uploaded_file is not None:\n",
        "            df = pd.read_csv(uploaded_file)\n",
        "        else:\n",
        "            st.warning(\"Please upload a CSV file.\")\n",
        "            return\n",
        "    else:\n",
        "        st.sidebar.write(\"Enter data manually:\")\n",
        "        manual_data = st.sidebar.text_area(\"Paste your data here (CSV format):\")\n",
        "        if manual_data:\n",
        "            df = pd.read_csv(pd.compat.StringIO(manual_data))\n",
        "        else:\n",
        "            st.warning(\"Please enter data manually.\")\n",
        "            return\n",
        "\n",
        "    if df is not None:\n",
        "        st.write(\"### Data Preview\")\n",
        "        st.dataframe(df.head())\n",
        "\n",
        "        explanation = detect_bias(df)\n",
        "        st.write(\"### Bias Analysis Report\")\n",
        "        st.text(explanation)\n",
        "\n",
        "        # Download button\n",
        "        st.markdown(download_report(explanation), unsafe_allow_html=True)\n",
        "\n",
        "        plot_visuals(df)"
      ],
      "metadata": {
        "id": "zrZx-IJrKZhw"
      },
      "execution_count": null,
      "outputs": []
    },
    {
      "cell_type": "markdown",
      "source": [
        "Run the App"
      ],
      "metadata": {
        "id": "uW94iPE5KfMQ"
      }
    },
    {
      "cell_type": "code",
      "source": [
        "if __name__ == \"__main__\":\n",
        "    main()"
      ],
      "metadata": {
        "colab": {
          "base_uri": "https://localhost:8080/"
        },
        "id": "c4OrmoiIKgne",
        "outputId": "a389ab42-4df4-44f2-a7d4-4f82150397b6"
      },
      "execution_count": null,
      "outputs": [
        {
          "output_type": "stream",
          "name": "stderr",
          "text": [
            "2025-02-17 13:47:50.453 Thread 'MainThread': missing ScriptRunContext! This warning can be ignored when running in bare mode.\n",
            "2025-02-17 13:47:50.455 Thread 'MainThread': missing ScriptRunContext! This warning can be ignored when running in bare mode.\n",
            "2025-02-17 13:47:50.456 Thread 'MainThread': missing ScriptRunContext! This warning can be ignored when running in bare mode.\n",
            "2025-02-17 13:47:50.457 Thread 'MainThread': missing ScriptRunContext! This warning can be ignored when running in bare mode.\n",
            "2025-02-17 13:47:50.459 Thread 'MainThread': missing ScriptRunContext! This warning can be ignored when running in bare mode.\n",
            "2025-02-17 13:47:50.461 Thread 'MainThread': missing ScriptRunContext! This warning can be ignored when running in bare mode.\n",
            "2025-02-17 13:47:50.463 Session state does not function when running a script without `streamlit run`\n",
            "2025-02-17 13:47:50.465 Thread 'MainThread': missing ScriptRunContext! This warning can be ignored when running in bare mode.\n",
            "2025-02-17 13:47:50.471 Thread 'MainThread': missing ScriptRunContext! This warning can be ignored when running in bare mode.\n",
            "2025-02-17 13:47:50.472 Thread 'MainThread': missing ScriptRunContext! This warning can be ignored when running in bare mode.\n",
            "2025-02-17 13:47:50.475 Thread 'MainThread': missing ScriptRunContext! This warning can be ignored when running in bare mode.\n",
            "2025-02-17 13:47:50.476 Thread 'MainThread': missing ScriptRunContext! This warning can be ignored when running in bare mode.\n",
            "2025-02-17 13:47:50.479 Thread 'MainThread': missing ScriptRunContext! This warning can be ignored when running in bare mode.\n",
            "2025-02-17 13:47:50.480 Thread 'MainThread': missing ScriptRunContext! This warning can be ignored when running in bare mode.\n",
            "2025-02-17 13:47:50.481 Thread 'MainThread': missing ScriptRunContext! This warning can be ignored when running in bare mode.\n",
            "2025-02-17 13:47:50.482 Thread 'MainThread': missing ScriptRunContext! This warning can be ignored when running in bare mode.\n"
          ]
        }
      ]
    }
  ]
}